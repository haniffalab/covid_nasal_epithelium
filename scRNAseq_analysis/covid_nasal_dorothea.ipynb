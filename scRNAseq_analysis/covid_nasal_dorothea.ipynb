{
 "cells": [
  {
   "cell_type": "code",
   "execution_count": 13,
   "id": "centered-questionnaire",
   "metadata": {},
   "outputs": [],
   "source": [
    "library(dplyr)\n",
    "library(ggplot2)\n",
    "library(repr)\n",
    "library(tidyr)\n",
    "library(Matrix)\n",
    "library(Seurat)\n",
    "library(dorothea)\n",
    "library(dplyr)\n",
    "library(Seurat)\n",
    "library(tibble)\n",
    "library(pheatmap)\n",
    "library(tidyr)\n",
    "library(viper)\n",
    "library(reshape2)\n",
    "library(forcats)\n",
    "library(ggpubr)\n",
    "library(cowplot)\n",
    "\n",
    "options(repr.plot.width=50, repr.plot.height=10)"
   ]
  },
  {
   "cell_type": "code",
   "execution_count": 14,
   "id": "undefined-battle",
   "metadata": {},
   "outputs": [],
   "source": [
    "setwd('/home/jovyan/data/covid_nasal/datasets')\n",
    "covid<-readRDS(\"covid_integrated.RDS\")"
   ]
  },
  {
   "cell_type": "code",
   "execution_count": 475,
   "id": "hybrid-compact",
   "metadata": {},
   "outputs": [],
   "source": [
    "## We read Dorothea Regulons for Human:\n",
    "dorothea_regulon_human <- get(data(\"dorothea_hs\", package = \"dorothea\"))\n",
    "\n",
    "## We obtain the regulons based on interactions with confidence level A, B and C\n",
    "regulon <- dorothea_regulon_human %>%\n",
    "    dplyr::filter(confidence %in% c(\"A\",\"B\",\"C\"))\n",
    "\n"
   ]
  },
  {
   "cell_type": "code",
   "execution_count": 4,
   "id": "cardiac-sender",
   "metadata": {},
   "outputs": [],
   "source": [
    "Idents(covid)<-'Treatment'\n",
    "covid_S<-subset(covid, id = 'Pos')"
   ]
  },
  {
   "cell_type": "code",
   "execution_count": 5,
   "id": "ahead-passenger",
   "metadata": {},
   "outputs": [
    {
     "name": "stderr",
     "output_type": "stream",
     "text": [
      "Centering and scaling data matrix\n",
      "\n"
     ]
    }
   ],
   "source": [
    "DefaultAssay(covid_S)<-'RNA'\n",
    "covid_S <- covid_S %>% \n",
    "NormalizeData() %>%\n",
    "FindVariableFeatures(selection.method = \"vst\", nfeatures = 2000) %>%\n",
    "ScaleData()"
   ]
  },
  {
   "cell_type": "code",
   "execution_count": 6,
   "id": "strategic-range",
   "metadata": {},
   "outputs": [],
   "source": [
    "## We compute Viper Scores \n",
    "covid_S <- run_viper(covid_S, regulon,\n",
    "                  options = list(method = \"scale\", minsize = 4, \n",
    "                                 eset.filter = FALSE, cores = 1, \n",
    "                                 verbose = FALSE))"
   ]
  },
  {
   "cell_type": "code",
   "execution_count": 7,
   "id": "rubber-finding",
   "metadata": {},
   "outputs": [
    {
     "name": "stderr",
     "output_type": "stream",
     "text": [
      "Centering and scaling data matrix\n",
      "\n"
     ]
    }
   ],
   "source": [
    "DefaultAssay(covid_S)<-'dorothea'\n",
    "\n",
    "covid_S <- ScaleData(covid_S)\n",
    "\n",
    "viper_scores_df <- GetAssayData(covid_S, slot = \"scale.data\", \n",
    "                                    assay = \"dorothea\") %>%\n",
    "  data.frame(check.names = F) %>%\n",
    "  t()"
   ]
  },
  {
   "cell_type": "code",
   "execution_count": 8,
   "id": "referenced-fields",
   "metadata": {},
   "outputs": [],
   "source": [
    "## We create a data frame containing the cells and their clusters\n",
    "Idents(covid_S)<-'initial_clustering'\n",
    "\n",
    "CellsClusters <- data.frame(cell = names(Idents(covid_S)), \n",
    "                            cell_type = as.character(Idents(covid_S)),\n",
    "                            check.names = F)\n",
    "\n"
   ]
  },
  {
   "cell_type": "code",
   "execution_count": 55,
   "id": "verbal-delaware",
   "metadata": {},
   "outputs": [],
   "source": [
    "DefaultAssay(covid_S)<-'RNA'\n",
    "a<-FetchData(covid_S, vars = \"covid--N\")\n",
    "temp<-rep(FetchData(covid_S, vars = \"covid--N\")$`covid--N`, 271)\n",
    "viper_scores_clusters$`covid--N`<-temp\n",
    "temp_group<-by(viper_scores_clusters, viper_scores_clusters$tf, FUN = function(X) cor(X$activity, X$`covid--N`, method = \"spearman\"))\n",
    "temp_group<-data.frame(group = dimnames(temp_group)[[1]], corr = as.vector(temp_group))"
   ]
  },
  {
   "cell_type": "code",
   "execution_count": 9,
   "id": "artistic-musician",
   "metadata": {},
   "outputs": [
    {
     "name": "stderr",
     "output_type": "stream",
     "text": [
      "Joining, by = \"cell\"\n",
      "\n"
     ]
    }
   ],
   "source": [
    "## We create a data frame with the Viper score per cell and its clusters\n",
    "viper_scores_clusters <- viper_scores_df  %>%\n",
    "  data.frame() %>% \n",
    "  rownames_to_column(\"cell\") %>%\n",
    "  gather(tf, activity, -cell) %>%\n",
    "  inner_join(CellsClusters)\n"
   ]
  },
  {
   "cell_type": "code",
   "execution_count": 10,
   "id": "adaptive-disco",
   "metadata": {},
   "outputs": [
    {
     "name": "stderr",
     "output_type": "stream",
     "text": [
      "`summarise()` has grouped output by 'tf'. You can override using the `.groups` argument.\n",
      "\n"
     ]
    }
   ],
   "source": [
    "## We summarize the Viper scores by cellpopulation\n",
    "summarized_viper_scores <- viper_scores_clusters %>% \n",
    "  group_by(tf, cell_type) %>%\n",
    "  summarise(avg = mean(activity),\n",
    "            std = sd(activity))"
   ]
  },
  {
   "cell_type": "code",
   "execution_count": 37,
   "id": "three-essence",
   "metadata": {},
   "outputs": [],
   "source": [
    "highly_variable_tfs <- summarized_viper_scores %>%\n",
    "  group_by(tf) %>%\n",
    "  mutate(var = var(avg))  %>%\n",
    "  ungroup() %>%\n",
    "  top_n(800, var) %>%\n",
    "  distinct(tf)\n",
    "\n",
    "## We prepare the data for the plot\n",
    "summarized_viper_scores_df <- summarized_viper_scores %>%\n",
    "  semi_join(highly_variable_tfs, by = \"tf\") %>%\n",
    "  dplyr::select(-std) %>%   \n",
    "  spread(tf, avg) %>%\n",
    "  data.frame(row.names = 1, check.names = FALSE) "
   ]
  },
  {
   "cell_type": "code",
   "execution_count": 337,
   "id": "small-alloy",
   "metadata": {},
   "outputs": [],
   "source": [
    "summarized_viper_scores_df_subset<-summarized_viper_scores_df %>% select(matches('REL|NFKB|IRF|STAT'))"
   ]
  },
  {
   "cell_type": "code",
   "execution_count": 40,
   "id": "presidential-columbia",
   "metadata": {},
   "outputs": [],
   "source": [
    "summarized_viper_scores_df_subset$cell = rownames(summarized_viper_scores_df_subset)"
   ]
  },
  {
   "cell_type": "code",
   "execution_count": 41,
   "id": "derived-float",
   "metadata": {},
   "outputs": [],
   "source": [
    "summarized_viper_scores_df_subset<-melt(summarized_viper_scores_df_subset, id = 'cell')"
   ]
  },
  {
   "cell_type": "code",
   "execution_count": 47,
   "id": "approved-spare",
   "metadata": {},
   "outputs": [
    {
     "data": {
      "image/png": "[encoded data removed]",
      "text/plain": [
       "plot without title"
      ]
     },
     "metadata": {
      "image/png": {
       "height": 600,
       "width": 600
      }
     },
     "output_type": "display_data"
    }
   ],
   "source": [
    "options(repr.plot.width=10, repr.plot.height=10)\n",
    "\n",
    "summarized_viper_scores_df_subset$cell <- factor(summarized_viper_scores_df_subset$cell,\n",
    "                                                 levels = rev(c(\"Basal1\",\n",
    "                                                                \"Basal2\",\n",
    "                                                                \"Basal_prolif\",\n",
    "                                                                \"Secretory\",\n",
    "                                                                \"Goblet\",\n",
    "                                                                \"Deuterosomal\",\n",
    "                                                                \"Ciliated\",\n",
    "                                                                \"Ionocyte\")))\n",
    "\n",
    "summarized_viper_scores_df_subset$variable <- factor(summarized_viper_scores_df_subset$variable,\n",
    "                                                 levels = c(\"RELB\",\n",
    "                                                               'STAT6',\n",
    "                                                               'STAT3',\n",
    "                                                               'STAT4',\n",
    "                                                               'NFKB1',\n",
    "                                                               'RELA',\n",
    "                                                               'REL',\n",
    "                                                               'STAT1'))\n",
    "\n",
    "ggplot(summarized_viper_scores_df_subset, aes(cell, variable, fill= value)) + \n",
    "   geom_tile(color = \"white\")+\n",
    "\n",
    " scale_fill_distiller(palette = 'RdYlBu', direction = -1) + \n",
    "theme(axis.text.x = element_text(angle = 90, vjust = 0.5, hjust=1))+\n",
    "coord_flip() + theme(aspect.ratio = 0.55) +\n",
    "  theme(axis.title.x=element_blank(),\n",
    "        axis.title.y=element_blank(),\n",
    "        axis.ticks.x=element_blank(),\n",
    "       axis.text=element_text(size=15),\n",
    "       legend.text = element_text(size = 7), \n",
    "        legend.title = element_text(size = 7))+\n",
    "labs(fill='Regulon expression (scaled)')+ theme(panel.background = element_blank())"
   ]
  },
  {
   "cell_type": "markdown",
   "id": "modular-cambodia",
   "metadata": {},
   "source": [
    "\n",
    "\n",
    "***Correct for regulon activity in negative cells***\n",
    "\n"
   ]
  },
  {
   "cell_type": "code",
   "execution_count": null,
   "id": "dress-warning",
   "metadata": {},
   "outputs": [],
   "source": [
    "setwd('/home/jovyan/data/covid_nasal/datasets')\n",
    "covid<-readRDS(\"covid_integrated.RDS\")"
   ]
  },
  {
   "cell_type": "code",
   "execution_count": 3,
   "id": "direct-jackson",
   "metadata": {},
   "outputs": [],
   "source": [
    "##Create a new identity class based on whether cell is infected\n",
    "uninfected <- subset(x = covid, \n",
    "                     subset = `covid--ORF1ab` == 0 &\n",
    "                     `covid--S` == 0 &\n",
    "                     `covid--ORF3a` == 0 &\n",
    "                     `covid--E` == 0 &\n",
    "                     `covid--M` == 0 &\n",
    "                     `covid--ORF6` == 0 &\n",
    "                     `covid--ORF7a` == 0 &\n",
    "                     `covid--ORF8` == 0 &\n",
    "                     `covid--N` == 0 &\n",
    "                     `covid--ORF10` == 0\n",
    "                     , slot='counts')\n",
    "\n",
    "infected_cells<-setdiff(colnames(covid), colnames(uninfected))\n",
    "\n",
    "Idents(object = covid, cells = Cells(uninfected)) <- 'uninfected'\n",
    "Idents(object = covid, cells = infected_cells) <- 'infected'\n",
    "\n",
    "covid[[\"infection\"]] <- Idents(covid)"
   ]
  },
  {
   "cell_type": "code",
   "execution_count": 4,
   "id": "opponent-preview",
   "metadata": {},
   "outputs": [],
   "source": [
    "covid@meta.data$combined<-paste0(covid@meta.data$Treatment, '_', covid@meta.data$infection)"
   ]
  },
  {
   "cell_type": "code",
   "execution_count": 6,
   "id": "premier-solomon",
   "metadata": {},
   "outputs": [],
   "source": [
    "Idents(covid)<-'combined'\n",
    "temp<-subset(covid, id = c('Pos_infected'))"
   ]
  },
  {
   "cell_type": "code",
   "execution_count": 5,
   "id": "dutch-scientist",
   "metadata": {},
   "outputs": [],
   "source": [
    "temp<-covid@meta.data %>% select('Treatment', 'initial_clustering', 'infection')"
   ]
  },
  {
   "cell_type": "code",
   "execution_count": 6,
   "id": "fiscal-trinity",
   "metadata": {},
   "outputs": [],
   "source": [
    "## We read Dorothea Regulons for Human:\n",
    "dorothea_regulon_human <- get(data(\"dorothea_hs\", package = \"dorothea\"))\n",
    "\n",
    "## We obtain the regulons based on interactions with confidence level A, B and C\n",
    "regulon <- dorothea_regulon_human %>%\n",
    "    dplyr::filter(confidence %in% c(\"A\",\"B\",\"C\"))\n",
    "\n"
   ]
  },
  {
   "cell_type": "code",
   "execution_count": 7,
   "id": "naval-medicine",
   "metadata": {},
   "outputs": [
    {
     "name": "stderr",
     "output_type": "stream",
     "text": [
      "Centering and scaling data matrix\n",
      "\n"
     ]
    }
   ],
   "source": [
    "DefaultAssay(covid)<-'RNA'\n",
    "covid <- covid %>% \n",
    "NormalizeData() %>%\n",
    "FindVariableFeatures(selection.method = \"vst\", nfeatures = 2000) %>%\n",
    "ScaleData()"
   ]
  },
  {
   "cell_type": "code",
   "execution_count": null,
   "id": "medieval-behavior",
   "metadata": {},
   "outputs": [],
   "source": [
    "## We compute Viper Scores \n",
    "covid <- run_viper(covid, regulon,\n",
    "                  options = list(method = \"scale\", minsize = 4, \n",
    "                                 eset.filter = FALSE, cores = 1, \n",
    "                                 verbose = FALSE))"
   ]
  },
  {
   "cell_type": "code",
   "execution_count": null,
   "id": "centered-stopping",
   "metadata": {},
   "outputs": [],
   "source": [
    "DefaultAssay(covid)<-'dorothea'\n",
    "\n",
    "covid <- ScaleData(covid)\n",
    "\n",
    "viper_scores_df <- GetAssayData(covid, slot = \"scale.data\", \n",
    "                                    assay = \"dorothea\") %>%\n",
    "  data.frame(check.names = F) %>%\n",
    "  t()"
   ]
  },
  {
   "cell_type": "code",
   "execution_count": null,
   "id": "conservative-kentucky",
   "metadata": {},
   "outputs": [],
   "source": [
    "viper_scores_df <- GetAssayData(covid, slot = \"scale.data\", \n",
    "                                    assay = \"dorothea\") %>%\n",
    "  data.frame(check.names = F) %>%\n",
    "  t()"
   ]
  },
  {
   "cell_type": "code",
   "execution_count": null,
   "id": "charged-purchase",
   "metadata": {},
   "outputs": [],
   "source": [
    "auc_mtx<-merge(viper_scores_df, temp, by=0, all=TRUE)\n",
    "rownames(auc_mtx)<-auc_mtx$Row.names\n",
    "auc_mtx$Row.names<-NULL"
   ]
  },
  {
   "cell_type": "code",
   "execution_count": null,
   "id": "atomic-pipeline",
   "metadata": {},
   "outputs": [],
   "source": [
    "auc_mtx<-a"
   ]
  },
  {
   "cell_type": "code",
   "execution_count": null,
   "id": "intensive-webster",
   "metadata": {},
   "outputs": [],
   "source": [
    "#Only keep untreated cells and infected positive cells\n",
    "\n",
    "auc_mtx<-auc_mtx %>% filter(Treatment == 'Neg' & infection == 'uninfected'| Treatment == 'Pos' & infection == 'infected')"
   ]
  },
  {
   "cell_type": "code",
   "execution_count": null,
   "id": "medium-theater",
   "metadata": {},
   "outputs": [],
   "source": [
    "pos<-auc_mtx %>% \n",
    "select(-infection) %>%\n",
    "group_by(Treatment, initial_clustering) %>% \n",
    "summarise_all(median) %>% \n",
    "ungroup() %>%\n",
    "filter(Treatment == \"Neg\") %>%\n",
    "select(-Treatment)\n",
    "\n",
    "neg<-auc_mtx %>% \n",
    "select(-infection) %>%\n",
    "group_by(Treatment, initial_clustering) %>% \n",
    "summarise_all(median) %>% \n",
    "ungroup() %>%\n",
    "filter(Treatment == \"Pos\") %>%\n",
    "select(-Treatment)\n"
   ]
  },
  {
   "cell_type": "code",
   "execution_count": null,
   "id": "naval-brook",
   "metadata": {},
   "outputs": [],
   "source": [
    "pos<-melt(pos)\n",
    "colnames(pos)<-c('initial_clustering', 'regulon', 'pos')\n",
    "neg<-melt(neg)\n",
    "colnames(neg)<-c('initial_clustering', 'regulon', 'neg')"
   ]
  },
  {
   "cell_type": "code",
   "execution_count": null,
   "id": "falling-compression",
   "metadata": {},
   "outputs": [],
   "source": [
    "neg$pos<-pos$pos\n",
    "corrected_regulon <- transform(neg, corrected = pos - (neg))\n",
    "corrected_regulon <- corrected_regulon %>% filter(grepl(\"STAT|IRF|JAK|NFK|REL|initial\", regulon))\n",
    "corrected_regulon <- corrected_regulon %>% select(initial_clustering, regulon, corrected)\n",
    "\n",
    "corrected_regulon<-dcast(corrected_regulon, initial_clustering ~ regulon)"
   ]
  },
  {
   "cell_type": "code",
   "execution_count": null,
   "id": "animal-conviction",
   "metadata": {},
   "outputs": [],
   "source": [
    "rownames(corrected_regulon)<-corrected_regulon$initial_clustering\n",
    "corrected_regulon$initial_clustering<-NULL"
   ]
  },
  {
   "cell_type": "code",
   "execution_count": null,
   "id": "focal-bradley",
   "metadata": {},
   "outputs": [],
   "source": [
    "corrected_regulon$celltype<-rownames(corrected_regulon)\n",
    "corrected_regulon<-melt(corrected_regulon, id = 'celltype')\n",
    "colnames(corrected_regulon)<-c('celltype', 'regulon', 'value')"
   ]
  },
  {
   "cell_type": "code",
   "execution_count": null,
   "id": "optimum-module",
   "metadata": {},
   "outputs": [],
   "source": [
    "corrected_regulon$celltype <- factor(corrected_regulon$celltype, levels = rev(c(\"Basal1\", \"Basal2\", \"Basal_prolif\", \"Goblet\",\n",
    "                                                             \"Secretory\", \"Ciliated\",\n",
    "                                                             \"Deuterosomal\", \"Ionocyte\")))\n",
    "\n",
    "options(repr.plot.width=10, repr.plot.height=10)\n",
    "\n",
    "ggplot(corrected_regulon, aes(celltype, regulon, fill= value)) + \n",
    "   geom_tile(color = \"white\")+\n",
    "\n",
    " scale_fill_distiller(palette = 'RdYlBu', direction = -1) + \n",
    "theme(axis.text.x = element_text(angle = 90, vjust = 0.5, hjust=1))+\n",
    "coord_flip() + theme(aspect.ratio = 0.55) +\n",
    "  theme(axis.title.x=element_blank(),\n",
    "        axis.title.y=element_blank(),\n",
    "        axis.ticks.x=element_blank(),\n",
    "       axis.text=element_text(size=15),\n",
    "       legend.text = element_text(size = 7), \n",
    "        legend.title = element_text(size = 7))+\n",
    "labs(fill='Regulon expression (scaled)')+ theme(panel.background = element_blank())\n",
    "\n",
    "setwd('/home/jovyan/data/covid_nasal/figures')\n",
    "ggsave(\"covid_nasal_dorothea_neg_vs_pos.png\", plot = last_plot(), device = NULL, path = NULL,width = 10, height = 10,  scale = 1)"
   ]
  },
  {
   "cell_type": "code",
   "execution_count": null,
   "id": "monthly-links",
   "metadata": {},
   "outputs": [],
   "source": []
  }
 ],
 "metadata": {
  "kernelspec": {
   "display_name": "GCA_R",
   "language": "R",
   "name": "gca_r"
  },
  "language_info": {
   "codemirror_mode": "r",
   "file_extension": ".r",
   "mimetype": "text/x-r-source",
   "name": "R",
   "pygments_lexer": "r",
   "version": "4.0.4"
  }
 },
 "nbformat": 4,
 "nbformat_minor": 5
}
